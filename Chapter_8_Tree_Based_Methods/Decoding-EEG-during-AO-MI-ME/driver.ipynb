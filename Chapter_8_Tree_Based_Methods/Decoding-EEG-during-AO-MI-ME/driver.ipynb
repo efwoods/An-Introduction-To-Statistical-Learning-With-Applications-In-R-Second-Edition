{
 "cells": [
  {
   "cell_type": "code",
   "execution_count": 1,
   "metadata": {},
   "outputs": [],
   "source": [
    "import os"
   ]
  },
  {
   "cell_type": "code",
   "execution_count": null,
   "metadata": {},
   "outputs": [],
   "source": []
  },
  {
   "cell_type": "code",
   "execution_count": 2,
   "metadata": {},
   "outputs": [
    {
     "data": {
      "text/plain": [
       "'/Volumes/T7/Github/An-Introduction-To-Statistical-Learning-With-Applications-In-R-Second-Edition/Chapter_8_Tree_Based_Methods/Decoding-EEG-during-AO-MI-ME'"
      ]
     },
     "execution_count": 2,
     "metadata": {},
     "output_type": "execute_result"
    }
   ],
   "source": [
    "os.getcwd()"
   ]
  },
  {
   "cell_type": "code",
   "execution_count": null,
   "metadata": {},
   "outputs": [],
   "source": []
  },
  {
   "cell_type": "code",
   "execution_count": null,
   "metadata": {},
   "outputs": [],
   "source": []
  },
  {
   "cell_type": "code",
   "execution_count": 15,
   "metadata": {},
   "outputs": [
    {
     "ename": "ModuleNotFoundError",
     "evalue": "No module named 'pysitstand'",
     "output_type": "error",
     "traceback": [
      "\u001b[0;31m---------------------------------------------------------------------------\u001b[0m",
      "\u001b[0;31mModuleNotFoundError\u001b[0m                       Traceback (most recent call last)",
      "Cell \u001b[0;32mIn[15], line 1\u001b[0m\n\u001b[0;32m----> 1\u001b[0m \u001b[38;5;28;01mfrom\u001b[39;00m \u001b[38;5;21;01meeg_preprocessing\u001b[39;00m \u001b[38;5;28;01mimport\u001b[39;00m \u001b[38;5;241m*\u001b[39m\n",
      "File \u001b[0;32m/Volumes/T7/Github/An-Introduction-To-Statistical-Learning-With-Applications-In-R-Second-Edition/Chapter_8_Tree_Based_Methods/Decoding-EEG-during-AO-MI-ME/pysitstand/eeg_preprocessing.py:1\u001b[0m\n\u001b[0;32m----> 1\u001b[0m \u001b[38;5;28;01mfrom\u001b[39;00m \u001b[38;5;21;01mpysitstand\u001b[39;00m\u001b[38;5;21;01m.\u001b[39;00m\u001b[38;5;21;01meeg\u001b[39;00m \u001b[38;5;28;01mimport\u001b[39;00m EEG\n\u001b[1;32m      2\u001b[0m \u001b[38;5;28;01mfrom\u001b[39;00m \u001b[38;5;21;01mpysitstand\u001b[39;00m\u001b[38;5;21;01m.\u001b[39;00m\u001b[38;5;21;01mutils\u001b[39;00m \u001b[38;5;28;01mimport\u001b[39;00m reshape2Dto3D, butter_bandpass_filter, highpass_filter, notch_filter, randomString\n\u001b[1;32m      3\u001b[0m \u001b[38;5;28;01mfrom\u001b[39;00m \u001b[38;5;21;01mpysitstand\u001b[39;00m\u001b[38;5;21;01m.\u001b[39;00m\u001b[38;5;21;01minfo\u001b[39;00m \u001b[38;5;28;01mimport\u001b[39;00m DATASET_PATH, PATH\n",
      "\u001b[0;31mModuleNotFoundError\u001b[0m: No module named 'pysitstand'"
     ]
    }
   ],
   "source": [
    "from eeg_preprocessing import *"
   ]
  },
  {
   "cell_type": "code",
   "execution_count": 10,
   "metadata": {},
   "outputs": [
    {
     "ename": "SyntaxError",
     "evalue": "invalid syntax (511995149.py, line 1)",
     "output_type": "error",
     "traceback": [
      "\u001b[0;36m  Cell \u001b[0;32mIn[10], line 1\u001b[0;36m\u001b[0m\n\u001b[0;31m    import '/Volumes/T7/Github/An-Introduction-To-Statistical-Learning-With-Applications-In-R-Second-Edition/Chapter_8_Tree_Based_Methods/Decoding-EEG-during-AO-MI-ME/python/pysitstand/eeg.py'\u001b[0m\n\u001b[0m           ^\u001b[0m\n\u001b[0;31mSyntaxError\u001b[0m\u001b[0;31m:\u001b[0m invalid syntax\n"
     ]
    }
   ],
   "source": [
    "import '/Volumes/T7/Github/An-Introduction-To-Statistical-Learning-With-Applications-In-R-Second-Edition/Chapter_8_Tree_Based_Methods/Decoding-EEG-during-AO-MI-ME/python/pysitstand/eeg.py'"
   ]
  },
  {
   "cell_type": "code",
   "execution_count": 6,
   "metadata": {},
   "outputs": [],
   "source": [
    "from pysitstand.eeg import EEG\n",
    "csv_file_name = './pysitstand/raw_data/S01_EEG/S01_EEG_1.csv'\n",
    "S01_EEG_1 = EEG(csv_file_name)"
   ]
  },
  {
   "cell_type": "code",
   "execution_count": 8,
   "metadata": {},
   "outputs": [
    {
     "name": "stdout",
     "output_type": "stream",
     "text": [
      "(279300, 32)\n"
     ]
    },
    {
     "data": {
      "text/plain": [
       "array([[1561016723468.0, 1.0, 1.0, ..., nan, nan, nan],\n",
       "       [12759.3564453125, 12761.91796875, 12762.763671875, ...,\n",
       "        12770.0966796875, 12769.0849609375, 12768.7451171875],\n",
       "       [16147.73828125, 16149.8427734375, 16152.755859375, ...,\n",
       "        16159.904296875, 16155.2216796875, 16151.7041015625],\n",
       "       ...,\n",
       "       [9173.9091796875, 9179.052734375, 9179.7021484375, ...,\n",
       "        9141.5185546875, 9141.7509765625, 9144.8857421875],\n",
       "       [-88527.796875, -88523.7890625, -88521.390625, ...,\n",
       "        -88512.8046875, -88508.8984375, -88506.90625],\n",
       "       [-123518.9140625, -123517.9921875, -123513.15625, ...,\n",
       "        -123511.171875, -123507.015625, -123503.8515625]], dtype=object)"
      ]
     },
     "execution_count": 8,
     "metadata": {},
     "output_type": "execute_result"
    }
   ],
   "source": [
    "raw_data = S01_EEG_1.read_CSV()\n",
    "raw_data"
   ]
  }
 ],
 "metadata": {
  "kernelspec": {
   "display_name": "r-tensorflow",
   "language": "python",
   "name": "python3"
  },
  "language_info": {
   "codemirror_mode": {
    "name": "ipython",
    "version": 3
   },
   "file_extension": ".py",
   "mimetype": "text/x-python",
   "name": "python",
   "nbconvert_exporter": "python",
   "pygments_lexer": "ipython3",
   "version": "3.10.13"
  }
 },
 "nbformat": 4,
 "nbformat_minor": 2
}
